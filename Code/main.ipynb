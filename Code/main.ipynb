{
 "cells": [
  {
   "cell_type": "markdown",
   "metadata": {},
   "source": [
    "# Blackjack \n",
    "\n",
    "IMPORTANT NOTES: \n",
    "* Neural network packages (Keras, Tensorflow, etc.) are NOT allowed. \n",
    "* Readability of the code forms part of the assessment.\n"
   ]
  }
 ],
 "metadata": {
  "language_info": {
   "name": "python"
  }
 },
 "nbformat": 4,
 "nbformat_minor": 2
}
